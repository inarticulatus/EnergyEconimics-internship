filename = "09-04-19_nldc_psp.pdf"   
pdfFileObj = open("{}/{}".format(directory,filename), 'rb')    
# creating a pdf reader object  
pdfReader = PyPDF2.PdfFileReader(pdfFileObj)        
# creating a page object  
pageObj = pdfReader.getPage(0)  
# extracting text from page  
txt = pageObj.extractText()
txtTrimmed = txt.rstrip()
txtTrimmed = txtTrimmed.replace("\n", "")
txtTrimmed = txtTrimmed.replace("," or ":" or "\'" or "_","")   
# closing the pdf file object  
pdfFileObj.close()
